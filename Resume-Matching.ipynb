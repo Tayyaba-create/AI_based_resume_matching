{
 "cells": [
  {
   "cell_type": "markdown",
   "id": "0e3d84b2-2841-4f34-9255-d411e29aac67",
   "metadata": {},
   "source": [
    "## 1. Importing Libraries"
   ]
  },
  {
   "cell_type": "code",
   "execution_count": 3,
   "id": "23fd562d-fb83-4152-8c23-befd16912c06",
   "metadata": {},
   "outputs": [],
   "source": [
    "import pandas as pd\n",
    "import warnings\n",
    "import string\n",
    "from nltk.tokenize import word_tokenize, sent_tokenize\n",
    "from sklearn.feature_extraction.text import TfidfVectorizer\n",
    "from sklearn.model_selection import train_test_split\n",
    "from sklearn.preprocessing import LabelEncoder\n",
    "from sklearn.model_selection import GridSearchCV\n",
    "from sklearn.metrics import accuracy_score, precision_score\n",
    "from sklearn.naive_bayes import GaussianNB, MultinomialNB, BernoulliNB\n",
    "from sklearn.metrics import accuracy_score, precision_score, confusion_matrix\n",
    "from sklearn.linear_model import LogisticRegression\n",
    "from sklearn.svm import SVC\n",
    "from sklearn.tree import DecisionTreeClassifier\n",
    "from sklearn.neighbors import KNeighborsClassifier\n",
    "from sklearn.ensemble import RandomForestClassifier\n",
    "from sklearn.ensemble import AdaBoostClassifier\n",
    "from sklearn.ensemble import BaggingClassifier\n",
    "from sklearn.ensemble import ExtraTreesClassifier\n",
    "from sklearn.ensemble import GradientBoostingClassifier\n",
    "from xgboost import XGBClassifier\n",
    "\n",
    "import matplotlib.pyplot as plt\n",
    "import seaborn as sns\n",
    "\n",
    "warnings.filterwarnings(\"ignore\")"
   ]
  },
  {
   "cell_type": "code",
   "execution_count": 4,
   "id": "ef3e8ee2-d1df-40a7-91c7-42341a8e770b",
   "metadata": {},
   "outputs": [
    {
     "name": "stdout",
     "output_type": "stream",
     "text": [
      "Requirement already satisfied: pandas in c:\\users\\ammar\\anaconda3\\lib\\site-packages (2.2.3)\n",
      "Requirement already satisfied: matplotlib in c:\\users\\ammar\\anaconda3\\lib\\site-packages (3.10.1)\n",
      "Requirement already satisfied: seaborn in c:\\users\\ammar\\anaconda3\\lib\\site-packages (0.13.2)\n",
      "Requirement already satisfied: nltk in c:\\users\\ammar\\anaconda3\\lib\\site-packages (3.9.1)\n",
      "Requirement already satisfied: numpy>=1.26.0 in c:\\users\\ammar\\anaconda3\\lib\\site-packages (from pandas) (2.2.4)\n",
      "Requirement already satisfied: python-dateutil>=2.8.2 in c:\\users\\ammar\\anaconda3\\lib\\site-packages (from pandas) (2.9.0.post0)\n",
      "Requirement already satisfied: pytz>=2020.1 in c:\\users\\ammar\\anaconda3\\lib\\site-packages (from pandas) (2024.1)\n",
      "Requirement already satisfied: tzdata>=2022.7 in c:\\users\\ammar\\anaconda3\\lib\\site-packages (from pandas) (2025.2)\n",
      "Requirement already satisfied: contourpy>=1.0.1 in c:\\users\\ammar\\anaconda3\\lib\\site-packages (from matplotlib) (1.3.2)\n",
      "Requirement already satisfied: cycler>=0.10 in c:\\users\\ammar\\anaconda3\\lib\\site-packages (from matplotlib) (0.12.1)\n",
      "Requirement already satisfied: fonttools>=4.22.0 in c:\\users\\ammar\\anaconda3\\lib\\site-packages (from matplotlib) (4.57.0)\n",
      "Requirement already satisfied: kiwisolver>=1.3.1 in c:\\users\\ammar\\anaconda3\\lib\\site-packages (from matplotlib) (1.4.8)\n",
      "Requirement already satisfied: packaging>=20.0 in c:\\users\\ammar\\anaconda3\\lib\\site-packages (from matplotlib) (24.1)\n",
      "Requirement already satisfied: pillow>=8 in c:\\users\\ammar\\anaconda3\\lib\\site-packages (from matplotlib) (10.4.0)\n",
      "Requirement already satisfied: pyparsing>=2.3.1 in c:\\users\\ammar\\anaconda3\\lib\\site-packages (from matplotlib) (3.2.3)\n",
      "Requirement already satisfied: click in c:\\users\\ammar\\anaconda3\\lib\\site-packages (from nltk) (8.1.7)\n",
      "Requirement already satisfied: joblib in c:\\users\\ammar\\anaconda3\\lib\\site-packages (from nltk) (1.4.2)\n",
      "Requirement already satisfied: regex>=2021.8.3 in c:\\users\\ammar\\anaconda3\\lib\\site-packages (from nltk) (2024.11.6)\n",
      "Requirement already satisfied: tqdm in c:\\users\\ammar\\anaconda3\\lib\\site-packages (from nltk) (4.66.5)\n",
      "Requirement already satisfied: six>=1.5 in c:\\users\\ammar\\anaconda3\\lib\\site-packages (from python-dateutil>=2.8.2->pandas) (1.16.0)\n",
      "Requirement already satisfied: colorama in c:\\users\\ammar\\anaconda3\\lib\\site-packages (from click->nltk) (0.4.6)\n"
     ]
    }
   ],
   "source": [
    "!pip install pandas matplotlib seaborn nltk"
   ]
  },
  {
   "cell_type": "code",
   "execution_count": 5,
   "id": "7290093d-8b30-425c-9820-33b319878e31",
   "metadata": {},
   "outputs": [
    {
     "name": "stdout",
     "output_type": "stream",
     "text": [
      "\u001b[38;5;2m✔ Download and installation successful\u001b[0m\n",
      "You can now load the package via spacy.load('en_core_web_sm')\n",
      "\u001b[38;5;3m⚠ Restart to reload dependencies\u001b[0m\n",
      "If you are in a Jupyter or Colab notebook, you may need to restart Python in\n",
      "order to load all the package's dependencies. You can do this by selecting the\n",
      "'Restart kernel' or 'Restart runtime' option.\n"
     ]
    }
   ],
   "source": [
    "import spacy.cli\n",
    "spacy.cli.download(\"en_core_web_sm\")"
   ]
  },
  {
   "cell_type": "markdown",
   "id": "31a3a8ef-4865-4b88-ac25-ca60dc48421a",
   "metadata": {},
   "source": [
    "## 2. Reading the Data"
   ]
  },
  {
   "cell_type": "code",
   "execution_count": 7,
   "id": "0007bb2b-8753-4f71-84ac-55adda1452f6",
   "metadata": {},
   "outputs": [
    {
     "data": {
      "text/html": [
       "<div>\n",
       "<style scoped>\n",
       "    .dataframe tbody tr th:only-of-type {\n",
       "        vertical-align: middle;\n",
       "    }\n",
       "\n",
       "    .dataframe tbody tr th {\n",
       "        vertical-align: top;\n",
       "    }\n",
       "\n",
       "    .dataframe thead th {\n",
       "        text-align: right;\n",
       "    }\n",
       "</style>\n",
       "<table border=\"1\" class=\"dataframe\">\n",
       "  <thead>\n",
       "    <tr style=\"text-align: right;\">\n",
       "      <th></th>\n",
       "      <th>Resume_str</th>\n",
       "      <th>Category</th>\n",
       "    </tr>\n",
       "  </thead>\n",
       "  <tbody>\n",
       "    <tr>\n",
       "      <th>2417</th>\n",
       "      <td>LEAD ENGINEER - FLUID SYSTEMS AND THE...</td>\n",
       "      <td>AVIATION</td>\n",
       "    </tr>\n",
       "    <tr>\n",
       "      <th>744</th>\n",
       "      <td>PRACTICE MANAGER             Educatio...</td>\n",
       "      <td>HEALTHCARE</td>\n",
       "    </tr>\n",
       "    <tr>\n",
       "      <th>1686</th>\n",
       "      <td>ADJUNCT INSTRUCTOR, VOLUNTEER CAREER ...</td>\n",
       "      <td>APPAREL</td>\n",
       "    </tr>\n",
       "    <tr>\n",
       "      <th>1808</th>\n",
       "      <td>ACCOUNTANT       Professional Summary...</td>\n",
       "      <td>ACCOUNTANT</td>\n",
       "    </tr>\n",
       "    <tr>\n",
       "      <th>1457</th>\n",
       "      <td>FOOD SERVER       Professional Summar...</td>\n",
       "      <td>CHEF</td>\n",
       "    </tr>\n",
       "    <tr>\n",
       "      <th>1666</th>\n",
       "      <td>ASSISTANT BANKING CENTER MANAGER I   ...</td>\n",
       "      <td>APPAREL</td>\n",
       "    </tr>\n",
       "    <tr>\n",
       "      <th>1848</th>\n",
       "      <td>ACCOUNTANT           Summary     Fina...</td>\n",
       "      <td>ACCOUNTANT</td>\n",
       "    </tr>\n",
       "    <tr>\n",
       "      <th>340</th>\n",
       "      <td>TEACHER       Summary    Obtain a pos...</td>\n",
       "      <td>TEACHER</td>\n",
       "    </tr>\n",
       "    <tr>\n",
       "      <th>44</th>\n",
       "      <td>HR COORDINATOR       Summary    Highl...</td>\n",
       "      <td>HR</td>\n",
       "    </tr>\n",
       "    <tr>\n",
       "      <th>1050</th>\n",
       "      <td>SALES DIRECTOR       Summary     \\n\\n...</td>\n",
       "      <td>SALES</td>\n",
       "    </tr>\n",
       "    <tr>\n",
       "      <th>1298</th>\n",
       "      <td>SENIOR MANAGER, DIGITAL MARKETING    ...</td>\n",
       "      <td>DIGITAL-MEDIA</td>\n",
       "    </tr>\n",
       "    <tr>\n",
       "      <th>562</th>\n",
       "      <td>DIRECTOR OF BUSINESS DEVELOPMENT     ...</td>\n",
       "      <td>BUSINESS-DEVELOPMENT</td>\n",
       "    </tr>\n",
       "    <tr>\n",
       "      <th>1109</th>\n",
       "      <td>SALES REPRESENTATIVE       Summary   ...</td>\n",
       "      <td>SALES</td>\n",
       "    </tr>\n",
       "    <tr>\n",
       "      <th>2035</th>\n",
       "      <td>CONCRETE LABORER/FINISHER/OPERATOR   ...</td>\n",
       "      <td>CONSTRUCTION</td>\n",
       "    </tr>\n",
       "    <tr>\n",
       "      <th>531</th>\n",
       "      <td>HR - SHARED SERVICES SUPERVISOR      ...</td>\n",
       "      <td>ADVOCATE</td>\n",
       "    </tr>\n",
       "  </tbody>\n",
       "</table>\n",
       "</div>"
      ],
      "text/plain": [
       "                                             Resume_str              Category\n",
       "2417           LEAD ENGINEER - FLUID SYSTEMS AND THE...              AVIATION\n",
       "744            PRACTICE MANAGER             Educatio...            HEALTHCARE\n",
       "1686           ADJUNCT INSTRUCTOR, VOLUNTEER CAREER ...               APPAREL\n",
       "1808           ACCOUNTANT       Professional Summary...            ACCOUNTANT\n",
       "1457           FOOD SERVER       Professional Summar...                  CHEF\n",
       "1666           ASSISTANT BANKING CENTER MANAGER I   ...               APPAREL\n",
       "1848           ACCOUNTANT           Summary     Fina...            ACCOUNTANT\n",
       "340            TEACHER       Summary    Obtain a pos...               TEACHER\n",
       "44             HR COORDINATOR       Summary    Highl...                    HR\n",
       "1050           SALES DIRECTOR       Summary     \\n\\n...                 SALES\n",
       "1298           SENIOR MANAGER, DIGITAL MARKETING    ...         DIGITAL-MEDIA\n",
       "562            DIRECTOR OF BUSINESS DEVELOPMENT     ...  BUSINESS-DEVELOPMENT\n",
       "1109           SALES REPRESENTATIVE       Summary   ...                 SALES\n",
       "2035           CONCRETE LABORER/FINISHER/OPERATOR   ...          CONSTRUCTION\n",
       "531            HR - SHARED SERVICES SUPERVISOR      ...              ADVOCATE"
      ]
     },
     "execution_count": 7,
     "metadata": {},
     "output_type": "execute_result"
    }
   ],
   "source": [
    "df = pd.read_csv(\"Resume.csv\")\n",
    "df = df.drop(columns=[\"ID\", \"Resume_html\"], axis=1)\n",
    "df.sample(15)"
   ]
  },
  {
   "cell_type": "markdown",
   "id": "8bba3ba1-527d-499a-9330-5dd7abc90c87",
   "metadata": {},
   "source": [
    "## 3. Basic EDA"
   ]
  },
  {
   "cell_type": "code",
   "execution_count": 9,
   "id": "396c0fd4-15fc-46fe-8289-07ed3a709aaa",
   "metadata": {},
   "outputs": [
    {
     "data": {
      "text/plain": [
       "(2484, 2)"
      ]
     },
     "execution_count": 9,
     "metadata": {},
     "output_type": "execute_result"
    }
   ],
   "source": [
    "df.shape"
   ]
  },
  {
   "cell_type": "code",
   "execution_count": 10,
   "id": "f777c108-6b39-4660-a735-33bbaa763d40",
   "metadata": {},
   "outputs": [
    {
     "data": {
      "text/plain": [
       "Resume_str    0\n",
       "Category      0\n",
       "dtype: int64"
      ]
     },
     "execution_count": 10,
     "metadata": {},
     "output_type": "execute_result"
    }
   ],
   "source": [
    "df.isnull().sum()"
   ]
  },
  {
   "cell_type": "code",
   "execution_count": 11,
   "id": "c76a5c2f-8d20-4e15-8e5f-c1fe0ea45dca",
   "metadata": {},
   "outputs": [
    {
     "data": {
      "text/plain": [
       "np.int64(2)"
      ]
     },
     "execution_count": 11,
     "metadata": {},
     "output_type": "execute_result"
    }
   ],
   "source": [
    "df.duplicated().sum()"
   ]
  },
  {
   "cell_type": "code",
   "execution_count": 12,
   "id": "037be0d8-2646-4498-9e4a-b97f42d173c0",
   "metadata": {},
   "outputs": [],
   "source": [
    "df.drop_duplicates(inplace=True)"
   ]
  },
  {
   "cell_type": "code",
   "execution_count": 13,
   "id": "d7c537c1-81c6-4e1d-9edd-5c1c5a5358aa",
   "metadata": {},
   "outputs": [
    {
     "data": {
      "text/plain": [
       "(2482, 2)"
      ]
     },
     "execution_count": 13,
     "metadata": {},
     "output_type": "execute_result"
    }
   ],
   "source": [
    "df.shape\n"
   ]
  },
  {
   "cell_type": "code",
   "execution_count": 14,
   "id": "650f6381-4029-48cc-b4a7-a4cf4c49db06",
   "metadata": {},
   "outputs": [
    {
     "name": "stdout",
     "output_type": "stream",
     "text": [
      "['HR' 'DESIGNER' 'INFORMATION-TECHNOLOGY' 'TEACHER' 'ADVOCATE'\n",
      " 'BUSINESS-DEVELOPMENT' 'HEALTHCARE' 'FITNESS' 'AGRICULTURE' 'BPO' 'SALES'\n",
      " 'CONSULTANT' 'DIGITAL-MEDIA' 'AUTOMOBILE' 'CHEF' 'FINANCE' 'APPAREL'\n",
      " 'ENGINEERING' 'ACCOUNTANT' 'CONSTRUCTION' 'PUBLIC-RELATIONS' 'BANKING'\n",
      " 'ARTS' 'AVIATION']\n"
     ]
    }
   ],
   "source": [
    "print(df['Category'].unique())"
   ]
  },
  {
   "cell_type": "code",
   "execution_count": 15,
   "id": "516f4165-1ac1-4d4d-b5ce-d52b3efeacc9",
   "metadata": {},
   "outputs": [
    {
     "data": {
      "text/plain": [
       "Category\n",
       "INFORMATION-TECHNOLOGY    120\n",
       "BUSINESS-DEVELOPMENT      120\n",
       "ADVOCATE                  118\n",
       "CHEF                      118\n",
       "ENGINEERING               118\n",
       "ACCOUNTANT                118\n",
       "FINANCE                   117\n",
       "FITNESS                   117\n",
       "SALES                     116\n",
       "AVIATION                  116\n",
       "BANKING                   115\n",
       "HEALTHCARE                115\n",
       "CONSULTANT                115\n",
       "CONSTRUCTION              112\n",
       "PUBLIC-RELATIONS          111\n",
       "HR                        110\n",
       "DESIGNER                  107\n",
       "ARTS                      103\n",
       "TEACHER                   102\n",
       "APPAREL                    97\n",
       "DIGITAL-MEDIA              96\n",
       "AGRICULTURE                63\n",
       "AUTOMOBILE                 36\n",
       "BPO                        22\n",
       "Name: count, dtype: int64"
      ]
     },
     "execution_count": 15,
     "metadata": {},
     "output_type": "execute_result"
    }
   ],
   "source": [
    "df[\"Category\"].value_counts()"
   ]
  },
  {
   "cell_type": "code",
   "execution_count": 16,
   "id": "13903414-2043-4ea1-9b00-8dd38a1daf57",
   "metadata": {},
   "outputs": [
    {
     "data": {
      "image/png": "[encoded data removed]",
      "text/plain": [
       "<Figure size 1200x800 with 1 Axes>"
      ]
     },
     "metadata": {},
     "output_type": "display_data"
    }
   ],
   "source": [
    "import matplotlib.pyplot as plt\n",
    "import seaborn as sns\n",
    "\n",
    "plt.figure(figsize=(12, 8))\n",
    "\n",
    "# Count and sort categories\n",
    "category_counts = df[\"Category\"].value_counts()\n",
    "\n",
    "# Plot with sorted values and better style\n",
    "sns.set_style(\"whitegrid\")\n",
    "sns.barplot(x=category_counts.values, y=category_counts.index, palette=\"viridis\")\n",
    "\n",
    "# Add labels and title\n",
    "plt.xlabel(\"Number of Resumes\", fontsize=12)\n",
    "plt.ylabel(\"Category\", fontsize=12)\n",
    "plt.title(\"Distribution of Resume Categories\", fontsize=15, weight='bold')\n",
    "plt.tight_layout()\n",
    "plt.show()\n"
   ]
  },
  {
   "cell_type": "code",
   "execution_count": 17,
   "id": "99bae321-6da5-4f88-bdaa-fd5a41a47f93",
   "metadata": {},
   "outputs": [
    {
     "data": {
      "text/plain": [
       "\"         HR SPECIALIST, US HR OPERATIONS       Summary     Versatile  media professional with background in Communications, Marketing, Human Resources and Technology.\\xa0        Experience     09/2015   to   Current     HR Specialist, US HR Operations    Company Name   －   City  ,   State       Managed communication regarding launch of Operations group, policy changes and system outages      Designed standard work and job aids to create comprehensive training program for new employees and contractors         Audited job postings for old, pending, on-hold and draft positions.           Audited union hourly, non-union hourly and salary background checks and drug screens             Conducted monthly new hire benefits briefing to new employees across all business units               Served as a link between HR Managers and vendors by handling questions and resolving system-related issues         Provide real-time process improvement feedback on key metrics and initiatives  Successfully re-branded US HR Operations SharePoint site  Business Unit project manager for RFI/RFP on Background Check and Drug Screen vendor         01/2014   to   05/2015     IT, Marketing and Communications Co-op    Company Name   －   City  ,   State      Posted new articles, changes and updates to corporate SharePoint site including graphics and visual communications.  Researched and drafted articles and feature stories to promote company activities and programs.  Co-edited and developed content for quarterly published newsletter.  Provided communication support for internal and external events.  Collaborated with Communication team, media professionals and vendors to determine program needs for print materials, web design and digital communications.  Entrusted to lead product, service and software launches for Digital Asset Management tool, Marketing Toolkit website and Executive Tradeshows Calendar.  Created presentations for management and executive approval to ensure alignment with corporate guidelines and branding.  Maintained the MySikorsky SharePoint site and provided timely solutions to mitigate issues.\\xa0\\xa0\\xa0\\xa0  Created story board and produced video for annual IT All Hands meeting.         10/2012   to   01/2014     Relationship Coordinator/Marketing Specialist    Company Name   －   City  ,   State       Partnered with vendor to manage the in-house advertising program consisting of print and media collateral pieces.     Coordinated pre-show and post-show activities at trade shows.     Managed marketing campaigns to generate new business and to support partner and sales teams.     Ordered marketing collateral for meetings, trade shows and advisors.    Improved, administered and modified marketing programs to increase product awareness.  Assisted in preparing internal promotional publications, managed marketing material inventory and supervised distribution of publications to ensure high quality product output.  Coordinated marketing materials including brochures, promotional materials and products.  Partnered with graphic designers to develop appropriate materials and branding for brochures.  Used tracking and reporting systems for sales leads and appointments.         09/2009   to   10/2012     Assistant Head Teller    Company Name   －   City  ,   State       Received an internal audit score of  100 %.     Performed daily and monthly audits of ATM machines and tellers.     Educated customers on a variety of retail products and available credit options.       Consistently met or exceeded quarterly sales goals     Promoted products and services to\\ncustomers while maintaining company brand identity\\n\\n·\\xa0\\xa0\\xa0\\xa0\\n  Implemented programs to achieve\\nand exceed customer and company participation goals\\xa0\\n\\n\\xa0  Organized company sponsored events on campus resulting in increased\\nbrand awareness\\n\\n·\\xa0\\xa0\\xa0\\xa0\\n  Coached peers on\\nthe proper use of programs to improve work flow efficiency  Utilized product knowledge to successfully sell\\nto and refer clients based on individual needs  Promoted marketing the grand opening\\nof new branch locations to strengthen company brand affinity\\n\\n·\\xa0\\xa0\\xa0\\xa0   Organized company sponsored events\\nresulting in increased brand awareness and improved sales\\n\\n·\\xa0\\xa0\\xa0\\xa0   Coached peers on the proper use of\\nprograms to increase work flow efficiency\\n\\n          Senior Producer - 2014 SHU Media Exchange    Company Name   －   City  ,   State      Planned and executed event\\xa0focusing on Connecticut's creative corridor, growth of industry and opportunities that come with development. A\\xa0 panel of industry professionals addressed topics related to media and hosted a question and answer session for approximately 110 attendees. Following the forum, guests were invited to engage in networking and conversation at a post-event reception.         Education     2014     Master of Arts  :   Corporate Communication & Public Relations    Sacred Heart University   －   City  ,   State             2013     Bachelor of Arts  :   Relational Communication    Western Connecticut State University   －   City  ,   State              Skills    Adobe Photoshop, ADP, Asset Management, branding, brochures, content, Customer Care, Final Cut Pro, graphics, graphic, HR, Illustrator, InDesign, Innovation, inventory, Lotus Notes, marketing, marketing materials, marketing material, materials, Microsoft Office, SharePoint, newsletter, presentations, process improvement, Project Management, promotional materials, publications, Quality, real-time, Recruitment, reporting, RFP, sales, stories, Employee Development, video, web design, website, articles   \""
      ]
     },
     "execution_count": 17,
     "metadata": {},
     "output_type": "execute_result"
    }
   ],
   "source": [
    "df[\"Resume_str\"][1]"
   ]
  },
  {
   "cell_type": "markdown",
   "id": "9137986e-5ed2-4f16-8421-d21c22589bbf",
   "metadata": {},
   "source": [
    "## 3. Text Preprocessing"
   ]
  },
  {
   "cell_type": "code",
   "execution_count": 19,
   "id": "080c0ee0-8492-4de3-93b0-6d2f1995ec9f",
   "metadata": {},
   "outputs": [],
   "source": [
    "nlp = spacy.load(\"en_core_web_sm\")"
   ]
  },
  {
   "cell_type": "code",
   "execution_count": 20,
   "id": "f89a8d94-6b34-40f8-8dff-dce0d487a3c1",
   "metadata": {},
   "outputs": [],
   "source": [
    "def transform_text(text):\n",
    "    doc = nlp(text.lower())  # lowercase and process with spaCy\n",
    "    words = []\n",
    "\n",
    "    for token in doc:\n",
    "        if token.is_alpha and not token.is_stop:\n",
    "            words.append(token.lemma_)  # use base form of word\n",
    "\n",
    "    return \" \".join(words)\n"
   ]
  },
  {
   "cell_type": "code",
   "execution_count": 21,
   "id": "3885f8f7-0a14-42f6-b258-35ea5a703674",
   "metadata": {},
   "outputs": [
    {
     "data": {
      "text/plain": [
       "'hr specialist hr operation summary versatile medium professional background communication marketing human resource technology experience current hr specialist hr operation company city state manage communication launch operation group policy change system outage design standard work job aid create comprehensive training program new employee contractor audit job posting old pending hold draft position audit union hourly non union hourly salary background check drug screen conduct monthly new hire benefit briefing new employee business unit serve link hr manager vendor handle question resolve system relate issue provide real time process improvement feedback key metric initiative successfully brand hr operation sharepoint site business unit project manager rfi rfp background check drug screen vendor marketing communication co op company city state post new article change update corporate sharepoint site include graphic visual communication research draft article feature story promote company activity program co edited developed content quarterly publish newsletter provide communication support internal external event'"
      ]
     },
     "execution_count": 21,
     "metadata": {},
     "output_type": "execute_result"
    }
   ],
   "source": [
    "transform_text(\"         HR SPECIALIST, US HR OPERATIONS       Summary     Versatile  media professional with background in Communications, Marketing, Human Resources and Technology.\\xa0        Experience     09/2015   to   Current     HR Specialist, US HR Operations    Company Name   －   City  ,   State       Managed communication regarding launch of Operations group, policy changes and system outages      Designed standard work and job aids to create comprehensive training program for new employees and contractors         Audited job postings for old, pending, on-hold and draft positions.           Audited union hourly, non-union hourly and salary background checks and drug screens             Conducted monthly new hire benefits briefing to new employees across all business units               Served as a link between HR Managers and vendors by handling questions and resolving system-related issues         Provide real-time process improvement feedback on key metrics and initiatives  Successfully re-branded US HR Operations SharePoint site  Business Unit project manager for RFI/RFP on Background Check and Drug Screen vendor         01/2014   to   05/2015     IT, Marketing and Communications Co-op    Company Name   －   City  ,   State      Posted new articles, changes and updates to corporate SharePoint site including graphics and visual communications.  Researched and drafted articles and feature stories to promote company activities and programs.  Co-edited and developed content for quarterly published newsletter.  Provided communication support for internal and external events.\")"
   ]
  },
  {
   "cell_type": "code",
   "execution_count": 22,
   "id": "b0e77882-d4f7-4444-a3e9-ce98e987cae8",
   "metadata": {},
   "outputs": [],
   "source": [
    "df[\"cleaned_text\"] = df[\"Resume_str\"].apply(transform_text)"
   ]
  },
  {
   "cell_type": "code",
   "execution_count": 23,
   "id": "ca44400f-99a7-43d9-b024-3282442198d2",
   "metadata": {},
   "outputs": [
    {
     "data": {
      "text/html": [
       "<div>\n",
       "<style scoped>\n",
       "    .dataframe tbody tr th:only-of-type {\n",
       "        vertical-align: middle;\n",
       "    }\n",
       "\n",
       "    .dataframe tbody tr th {\n",
       "        vertical-align: top;\n",
       "    }\n",
       "\n",
       "    .dataframe thead th {\n",
       "        text-align: right;\n",
       "    }\n",
       "</style>\n",
       "<table border=\"1\" class=\"dataframe\">\n",
       "  <thead>\n",
       "    <tr style=\"text-align: right;\">\n",
       "      <th></th>\n",
       "      <th>Resume_str</th>\n",
       "      <th>Category</th>\n",
       "      <th>cleaned_text</th>\n",
       "    </tr>\n",
       "  </thead>\n",
       "  <tbody>\n",
       "    <tr>\n",
       "      <th>196</th>\n",
       "      <td>3D DESIGNER/ GRAPHIC DESIGNER        ...</td>\n",
       "      <td>DESIGNER</td>\n",
       "      <td>graphic designer summary seek position experie...</td>\n",
       "    </tr>\n",
       "    <tr>\n",
       "      <th>468</th>\n",
       "      <td>FULFILLMENT ADVOCATE       Summary   ...</td>\n",
       "      <td>ADVOCATE</td>\n",
       "      <td>fulfillment advocate summary guadalajara jalis...</td>\n",
       "    </tr>\n",
       "    <tr>\n",
       "      <th>927</th>\n",
       "      <td>DRIVER           Summary    Biologica...</td>\n",
       "      <td>AGRICULTURE</td>\n",
       "      <td>driver summary biological science technician y...</td>\n",
       "    </tr>\n",
       "    <tr>\n",
       "      <th>1994</th>\n",
       "      <td>LABOER FLOOR CONSTRUCTION WORKER (ALL...</td>\n",
       "      <td>CONSTRUCTION</td>\n",
       "      <td>laboer floor construction worker round experie...</td>\n",
       "    </tr>\n",
       "    <tr>\n",
       "      <th>528</th>\n",
       "      <td>RN / ASST. HEAD NURSE PRACTICE LEADER...</td>\n",
       "      <td>ADVOCATE</td>\n",
       "      <td>rn asst head nurse practice leader skill care ...</td>\n",
       "    </tr>\n",
       "    <tr>\n",
       "      <th>2320</th>\n",
       "      <td>PACKAGING BUYER/RESEARCH AND DEVELOPM...</td>\n",
       "      <td>ARTS</td>\n",
       "      <td>packaging buyer research development lead summ...</td>\n",
       "    </tr>\n",
       "    <tr>\n",
       "      <th>1408</th>\n",
       "      <td>SOUS CHEF           Summary    To bri...</td>\n",
       "      <td>CHEF</td>\n",
       "      <td>sous chef summary bring positive attitude stro...</td>\n",
       "    </tr>\n",
       "    <tr>\n",
       "      <th>126</th>\n",
       "      <td>PRODUCT DESIGNER       Professional S...</td>\n",
       "      <td>DESIGNER</td>\n",
       "      <td>product designer professional summary year eng...</td>\n",
       "    </tr>\n",
       "    <tr>\n",
       "      <th>1292</th>\n",
       "      <td>PAID MEDIA SPECIALIST       Summary  ...</td>\n",
       "      <td>DIGITAL-MEDIA</td>\n",
       "      <td>pay medium specialist summary enthusiastic emp...</td>\n",
       "    </tr>\n",
       "    <tr>\n",
       "      <th>280</th>\n",
       "      <td>INFORMATION TECHNOLOGY COORDINATOR   ...</td>\n",
       "      <td>INFORMATION-TECHNOLOGY</td>\n",
       "      <td>information technology coordinator professiona...</td>\n",
       "    </tr>\n",
       "    <tr>\n",
       "      <th>320</th>\n",
       "      <td>ASSISTANT FOOTBALL COACH       Summar...</td>\n",
       "      <td>INFORMATION-TECHNOLOGY</td>\n",
       "      <td>assistant football coach summary enthusiastic ...</td>\n",
       "    </tr>\n",
       "    <tr>\n",
       "      <th>757</th>\n",
       "      <td>HEALTH INFORMATION SPECIALIST       S...</td>\n",
       "      <td>HEALTHCARE</td>\n",
       "      <td>health information specialist summary highly e...</td>\n",
       "    </tr>\n",
       "    <tr>\n",
       "      <th>818</th>\n",
       "      <td>INTERN       Professional Profile    ...</td>\n",
       "      <td>FITNESS</td>\n",
       "      <td>intern professional profile result drive fitne...</td>\n",
       "    </tr>\n",
       "    <tr>\n",
       "      <th>1494</th>\n",
       "      <td>FINANCE DIRECTOR       Summary    Sea...</td>\n",
       "      <td>FINANCE</td>\n",
       "      <td>finance director summary seasoned professional...</td>\n",
       "    </tr>\n",
       "    <tr>\n",
       "      <th>2283</th>\n",
       "      <td>INTERVENTION SPECIALIST TEACHER OF MA...</td>\n",
       "      <td>ARTS</td>\n",
       "      <td>intervention specialist teacher math language ...</td>\n",
       "    </tr>\n",
       "  </tbody>\n",
       "</table>\n",
       "</div>"
      ],
      "text/plain": [
       "                                             Resume_str  \\\n",
       "196            3D DESIGNER/ GRAPHIC DESIGNER        ...   \n",
       "468            FULFILLMENT ADVOCATE       Summary   ...   \n",
       "927            DRIVER           Summary    Biologica...   \n",
       "1994           LABOER FLOOR CONSTRUCTION WORKER (ALL...   \n",
       "528            RN / ASST. HEAD NURSE PRACTICE LEADER...   \n",
       "2320           PACKAGING BUYER/RESEARCH AND DEVELOPM...   \n",
       "1408           SOUS CHEF           Summary    To bri...   \n",
       "126            PRODUCT DESIGNER       Professional S...   \n",
       "1292           PAID MEDIA SPECIALIST       Summary  ...   \n",
       "280            INFORMATION TECHNOLOGY COORDINATOR   ...   \n",
       "320            ASSISTANT FOOTBALL COACH       Summar...   \n",
       "757            HEALTH INFORMATION SPECIALIST       S...   \n",
       "818            INTERN       Professional Profile    ...   \n",
       "1494           FINANCE DIRECTOR       Summary    Sea...   \n",
       "2283           INTERVENTION SPECIALIST TEACHER OF MA...   \n",
       "\n",
       "                    Category  \\\n",
       "196                 DESIGNER   \n",
       "468                 ADVOCATE   \n",
       "927              AGRICULTURE   \n",
       "1994            CONSTRUCTION   \n",
       "528                 ADVOCATE   \n",
       "2320                    ARTS   \n",
       "1408                    CHEF   \n",
       "126                 DESIGNER   \n",
       "1292           DIGITAL-MEDIA   \n",
       "280   INFORMATION-TECHNOLOGY   \n",
       "320   INFORMATION-TECHNOLOGY   \n",
       "757               HEALTHCARE   \n",
       "818                  FITNESS   \n",
       "1494                 FINANCE   \n",
       "2283                    ARTS   \n",
       "\n",
       "                                           cleaned_text  \n",
       "196   graphic designer summary seek position experie...  \n",
       "468   fulfillment advocate summary guadalajara jalis...  \n",
       "927   driver summary biological science technician y...  \n",
       "1994  laboer floor construction worker round experie...  \n",
       "528   rn asst head nurse practice leader skill care ...  \n",
       "2320  packaging buyer research development lead summ...  \n",
       "1408  sous chef summary bring positive attitude stro...  \n",
       "126   product designer professional summary year eng...  \n",
       "1292  pay medium specialist summary enthusiastic emp...  \n",
       "280   information technology coordinator professiona...  \n",
       "320   assistant football coach summary enthusiastic ...  \n",
       "757   health information specialist summary highly e...  \n",
       "818   intern professional profile result drive fitne...  \n",
       "1494  finance director summary seasoned professional...  \n",
       "2283  intervention specialist teacher math language ...  "
      ]
     },
     "execution_count": 23,
     "metadata": {},
     "output_type": "execute_result"
    }
   ],
   "source": [
    "df.sample(15)"
   ]
  },
  {
   "cell_type": "code",
   "execution_count": 24,
   "id": "d61a1f46-211c-409d-93cb-a5077078aa6f",
   "metadata": {},
   "outputs": [],
   "source": [
    "df[\"num_of_words\"] = df[\"cleaned_text\"].apply(lambda x: len(word_tokenize(x)))"
   ]
  },
  {
   "cell_type": "code",
   "execution_count": 25,
   "id": "4ebc30c4-73c7-4531-a702-504d43a47f2f",
   "metadata": {},
   "outputs": [],
   "source": [
    "df[\"num_of_sentences\"] = df[\"cleaned_text\"].apply(lambda x: len(sent_tokenize(x)))"
   ]
  },
  {
   "cell_type": "code",
   "execution_count": 26,
   "id": "98b13045-6e84-4eb8-ae33-ca74f3ae3a24",
   "metadata": {},
   "outputs": [
    {
     "data": {
      "text/html": [
       "<div>\n",
       "<style scoped>\n",
       "    .dataframe tbody tr th:only-of-type {\n",
       "        vertical-align: middle;\n",
       "    }\n",
       "\n",
       "    .dataframe tbody tr th {\n",
       "        vertical-align: top;\n",
       "    }\n",
       "\n",
       "    .dataframe thead th {\n",
       "        text-align: right;\n",
       "    }\n",
       "</style>\n",
       "<table border=\"1\" class=\"dataframe\">\n",
       "  <thead>\n",
       "    <tr style=\"text-align: right;\">\n",
       "      <th></th>\n",
       "      <th>Resume_str</th>\n",
       "      <th>Category</th>\n",
       "      <th>cleaned_text</th>\n",
       "      <th>num_of_words</th>\n",
       "      <th>num_of_sentences</th>\n",
       "    </tr>\n",
       "  </thead>\n",
       "  <tbody>\n",
       "    <tr>\n",
       "      <th>2161</th>\n",
       "      <td>BUSINESS BANKING SPECIALIST          ...</td>\n",
       "      <td>BANKING</td>\n",
       "      <td>business banking specialist summary year exper...</td>\n",
       "      <td>737</td>\n",
       "      <td>1</td>\n",
       "    </tr>\n",
       "    <tr>\n",
       "      <th>854</th>\n",
       "      <td>BRANCH LOGISTICS MANAGER       Execut...</td>\n",
       "      <td>FITNESS</td>\n",
       "      <td>branch logistic manager executive summary reli...</td>\n",
       "      <td>713</td>\n",
       "      <td>1</td>\n",
       "    </tr>\n",
       "    <tr>\n",
       "      <th>551</th>\n",
       "      <td>OVERNIGHT PHARMACY TECHNICIAN        ...</td>\n",
       "      <td>ADVOCATE</td>\n",
       "      <td>overnight pharmacy technician professional sum...</td>\n",
       "      <td>561</td>\n",
       "      <td>1</td>\n",
       "    </tr>\n",
       "    <tr>\n",
       "      <th>506</th>\n",
       "      <td>MERCHANT SERVICES ADVOCATE       Summ...</td>\n",
       "      <td>ADVOCATE</td>\n",
       "      <td>merchant service advocate summary management e...</td>\n",
       "      <td>477</td>\n",
       "      <td>1</td>\n",
       "    </tr>\n",
       "    <tr>\n",
       "      <th>7</th>\n",
       "      <td>HR MANAGER         Professional Summa...</td>\n",
       "      <td>HR</td>\n",
       "      <td>hr manager professional summary senior hr prof...</td>\n",
       "      <td>824</td>\n",
       "      <td>1</td>\n",
       "    </tr>\n",
       "    <tr>\n",
       "      <th>1472</th>\n",
       "      <td>SUBSTITUTE PARA PROFESSIONAL       Su...</td>\n",
       "      <td>CHEF</td>\n",
       "      <td>substitute para professional summary professio...</td>\n",
       "      <td>619</td>\n",
       "      <td>1</td>\n",
       "    </tr>\n",
       "    <tr>\n",
       "      <th>15</th>\n",
       "      <td>HR CLERK       Summary     I am an et...</td>\n",
       "      <td>HR</td>\n",
       "      <td>hr clerk summary ethical team orient policy dr...</td>\n",
       "      <td>536</td>\n",
       "      <td>1</td>\n",
       "    </tr>\n",
       "    <tr>\n",
       "      <th>1969</th>\n",
       "      <td>CONSTRUCTION PROJECT REGIONAL MANAGER...</td>\n",
       "      <td>CONSTRUCTION</td>\n",
       "      <td>construction project regional manager summary ...</td>\n",
       "      <td>691</td>\n",
       "      <td>1</td>\n",
       "    </tr>\n",
       "    <tr>\n",
       "      <th>415</th>\n",
       "      <td>MASTER TEACHER       Highlights      ...</td>\n",
       "      <td>TEACHER</td>\n",
       "      <td>master teacher highlight home school knowledge...</td>\n",
       "      <td>455</td>\n",
       "      <td>1</td>\n",
       "    </tr>\n",
       "    <tr>\n",
       "      <th>581</th>\n",
       "      <td>BUSINESS DEVELOPMENT REP         Summ...</td>\n",
       "      <td>BUSINESS-DEVELOPMENT</td>\n",
       "      <td>business development rep summary result orient...</td>\n",
       "      <td>697</td>\n",
       "      <td>1</td>\n",
       "    </tr>\n",
       "    <tr>\n",
       "      <th>713</th>\n",
       "      <td>DIRECTOR OF NATIONAL SALES- US. HEALT...</td>\n",
       "      <td>HEALTHCARE</td>\n",
       "      <td>director national healthcare executive profile...</td>\n",
       "      <td>592</td>\n",
       "      <td>1</td>\n",
       "    </tr>\n",
       "    <tr>\n",
       "      <th>1369</th>\n",
       "      <td>CHEF           Professional Summary  ...</td>\n",
       "      <td>CHEF</td>\n",
       "      <td>chef professional summary obtain position envi...</td>\n",
       "      <td>177</td>\n",
       "      <td>1</td>\n",
       "    </tr>\n",
       "    <tr>\n",
       "      <th>138</th>\n",
       "      <td>GRAPHIC DESIGNER       Summary      I...</td>\n",
       "      <td>DESIGNER</td>\n",
       "      <td>graphic designer summary hardworking multi tal...</td>\n",
       "      <td>512</td>\n",
       "      <td>1</td>\n",
       "    </tr>\n",
       "    <tr>\n",
       "      <th>556</th>\n",
       "      <td>HEALTH COACH            www.linkedin....</td>\n",
       "      <td>ADVOCATE</td>\n",
       "      <td>health coach professional summary drive compas...</td>\n",
       "      <td>370</td>\n",
       "      <td>1</td>\n",
       "    </tr>\n",
       "    <tr>\n",
       "      <th>1126</th>\n",
       "      <td>CONSULTANT       Professional Summa...</td>\n",
       "      <td>CONSULTANT</td>\n",
       "      <td>consultant professional summary astute innovat...</td>\n",
       "      <td>521</td>\n",
       "      <td>1</td>\n",
       "    </tr>\n",
       "  </tbody>\n",
       "</table>\n",
       "</div>"
      ],
      "text/plain": [
       "                                             Resume_str              Category  \\\n",
       "2161           BUSINESS BANKING SPECIALIST          ...               BANKING   \n",
       "854            BRANCH LOGISTICS MANAGER       Execut...               FITNESS   \n",
       "551            OVERNIGHT PHARMACY TECHNICIAN        ...              ADVOCATE   \n",
       "506            MERCHANT SERVICES ADVOCATE       Summ...              ADVOCATE   \n",
       "7              HR MANAGER         Professional Summa...                    HR   \n",
       "1472           SUBSTITUTE PARA PROFESSIONAL       Su...                  CHEF   \n",
       "15             HR CLERK       Summary     I am an et...                    HR   \n",
       "1969           CONSTRUCTION PROJECT REGIONAL MANAGER...          CONSTRUCTION   \n",
       "415            MASTER TEACHER       Highlights      ...               TEACHER   \n",
       "581            BUSINESS DEVELOPMENT REP         Summ...  BUSINESS-DEVELOPMENT   \n",
       "713            DIRECTOR OF NATIONAL SALES- US. HEALT...            HEALTHCARE   \n",
       "1369           CHEF           Professional Summary  ...                  CHEF   \n",
       "138            GRAPHIC DESIGNER       Summary      I...              DESIGNER   \n",
       "556            HEALTH COACH            www.linkedin....              ADVOCATE   \n",
       "1126             CONSULTANT       Professional Summa...            CONSULTANT   \n",
       "\n",
       "                                           cleaned_text  num_of_words  \\\n",
       "2161  business banking specialist summary year exper...           737   \n",
       "854   branch logistic manager executive summary reli...           713   \n",
       "551   overnight pharmacy technician professional sum...           561   \n",
       "506   merchant service advocate summary management e...           477   \n",
       "7     hr manager professional summary senior hr prof...           824   \n",
       "1472  substitute para professional summary professio...           619   \n",
       "15    hr clerk summary ethical team orient policy dr...           536   \n",
       "1969  construction project regional manager summary ...           691   \n",
       "415   master teacher highlight home school knowledge...           455   \n",
       "581   business development rep summary result orient...           697   \n",
       "713   director national healthcare executive profile...           592   \n",
       "1369  chef professional summary obtain position envi...           177   \n",
       "138   graphic designer summary hardworking multi tal...           512   \n",
       "556   health coach professional summary drive compas...           370   \n",
       "1126  consultant professional summary astute innovat...           521   \n",
       "\n",
       "      num_of_sentences  \n",
       "2161                 1  \n",
       "854                  1  \n",
       "551                  1  \n",
       "506                  1  \n",
       "7                    1  \n",
       "1472                 1  \n",
       "15                   1  \n",
       "1969                 1  \n",
       "415                  1  \n",
       "581                  1  \n",
       "713                  1  \n",
       "1369                 1  \n",
       "138                  1  \n",
       "556                  1  \n",
       "1126                 1  "
      ]
     },
     "execution_count": 26,
     "metadata": {},
     "output_type": "execute_result"
    }
   ],
   "source": [
    "df.sample(15)"
   ]
  },
  {
   "cell_type": "code",
   "execution_count": 27,
   "id": "97e24d97-26f1-4d8e-961f-274bd66d6ef1",
   "metadata": {},
   "outputs": [
    {
     "data": {
      "image/png": "[encoded data removed]",
      "text/plain": [
       "<Figure size 640x480 with 1 Axes>"
      ]
     },
     "metadata": {},
     "output_type": "display_data"
    }
   ],
   "source": [
    "sns.kdeplot(df[\"num_of_sentences\"])\n",
    "plt.show()"
   ]
  },
  {
   "cell_type": "code",
   "execution_count": 28,
   "id": "687caa0f-897e-4a87-98de-a8d4732ada8e",
   "metadata": {},
   "outputs": [
    {
     "data": {
      "image/png": "[encoded data removed]",
      "text/plain": [
       "<Figure size 640x480 with 1 Axes>"
      ]
     },
     "metadata": {},
     "output_type": "display_data"
    }
   ],
   "source": [
    "sns.kdeplot(df[\"num_of_words\"])\n",
    "plt.show()"
   ]
  },
  {
   "cell_type": "code",
   "execution_count": 29,
   "id": "82991f10-0fd8-41eb-aee2-06945bb30cad",
   "metadata": {},
   "outputs": [
    {
     "data": {
      "image/png": "[encoded data removed]",
      "text/plain": [
       "<Figure size 1000x400 with 1 Axes>"
      ]
     },
     "metadata": {},
     "output_type": "display_data"
    }
   ],
   "source": [
    "plt.figure(figsize=(10,4))\n",
    "sns.histplot(df[\"num_of_words\"])\n",
    "plt.title(\"No of words\")\n",
    "plt.show()"
   ]
  },
  {
   "cell_type": "markdown",
   "id": "534a298b-36ce-4f8c-8563-2cc5b10221ff",
   "metadata": {},
   "source": [
    "## 4. Model Training"
   ]
  },
  {
   "cell_type": "code",
   "execution_count": 31,
   "id": "d3a9a7e2-05fd-4486-b3c4-37a36cc6b3f5",
   "metadata": {},
   "outputs": [],
   "source": [
    "X = df[\"cleaned_text\"]\n",
    "y = df[\"Category\"]"
   ]
  },
  {
   "cell_type": "code",
   "execution_count": 32,
   "id": "558c8bf4-2f3c-472d-abe2-1bdcd8c1c362",
   "metadata": {},
   "outputs": [],
   "source": [
    "X_train, X_test, y_train, y_test = train_test_split(X, y, test_size=0.20, random_state=42)"
   ]
  },
  {
   "cell_type": "code",
   "execution_count": 33,
   "id": "c060ae8d-7487-4625-a1ef-bd921861508a",
   "metadata": {},
   "outputs": [
    {
     "name": "stdout",
     "output_type": "stream",
     "text": [
      "X train shape: (1985,)\n",
      "X test shape: (497,)\n",
      "y train shape: (1985,)\n",
      "y test shape: (497,)\n"
     ]
    }
   ],
   "source": [
    "print(f\"X train shape: {X_train.shape}\")\n",
    "print(f\"X test shape: {X_test.shape}\")\n",
    "print(f\"y train shape: {y_train.shape}\")\n",
    "print(f\"y test shape: {y_test.shape}\")\n"
   ]
  },
  {
   "cell_type": "code",
   "execution_count": 34,
   "id": "1502d41a-1d7c-4190-b993-c7e35c327d24",
   "metadata": {},
   "outputs": [],
   "source": [
    "tfidf = TfidfVectorizer(max_features=1000)\n",
    "\n",
    "X_train_tfidf = tfidf.fit_transform(X_train)\n",
    "X_test_tfidf = tfidf.transform(X_test)"
   ]
  },
  {
   "cell_type": "code",
   "execution_count": 35,
   "id": "7053660c-9bab-4d2c-969f-85f0404d6b24",
   "metadata": {},
   "outputs": [],
   "source": [
    "encoder = LabelEncoder()\n",
    "\n",
    "y_train_encoder = encoder.fit_transform(y_train)\n",
    "y_test_encoder = encoder.transform(y_test)"
   ]
  },
  {
   "cell_type": "code",
   "execution_count": 36,
   "id": "1c1fda9d-bb79-4b40-9ee3-679ae7451e3b",
   "metadata": {},
   "outputs": [
    {
     "name": "stdout",
     "output_type": "stream",
     "text": [
      "                Model  Accuracy  Precision\n",
      "4             XGBoost  0.738431   0.735770\n",
      "3        RandomForest  0.674044   0.651970\n",
      "1  LogisticRegression  0.657948   0.682323\n",
      "2        DecisionTree  0.585513   0.588430\n",
      "0       MultinomialNB  0.579477   0.605511\n"
     ]
    }
   ],
   "source": [
    "# 4. All Models\n",
    "models = {\n",
    "    \"MultinomialNB\": MultinomialNB(),\n",
    "    \"LogisticRegression\": LogisticRegression(max_iter=1000),\n",
    "    \"DecisionTree\": DecisionTreeClassifier(),\n",
    "    \"RandomForest\": RandomForestClassifier(n_estimators=50), \n",
    "    \"XGBoost\": XGBClassifier(use_label_encoder=False, eval_metric='mlogloss')\n",
    "}\n",
    "\n",
    "\n",
    "# 5. Training and Evaluating\n",
    "results = []\n",
    "\n",
    "for name, model in models.items():\n",
    "    \n",
    "        model.fit(X_train_tfidf, y_train_encoder)\n",
    "        y_pred = model.predict(X_test_tfidf)\n",
    "\n",
    "        acc = accuracy_score(y_test_encoder, y_pred)\n",
    "        prec = precision_score(y_test_encoder, y_pred, average='weighted')\n",
    "\n",
    "        results.append((name, acc, prec))\n",
    "\n",
    "\n",
    "# 6. Show Results\n",
    "results_df = pd.DataFrame(results, columns=[\"Model\", \"Accuracy\", \"Precision\"])\n",
    "print(results_df.sort_values(by=\"Accuracy\", ascending=False))"
   ]
  },
  {
   "cell_type": "code",
   "execution_count": 37,
   "id": "6957231d-cdbd-47d8-882a-b2bf4de9159d",
   "metadata": {},
   "outputs": [],
   "source": [
    "xgb = XGBClassifier(use_label_encoder=False, eval_metric='mlogloss')"
   ]
  },
  {
   "cell_type": "code",
   "execution_count": 38,
   "id": "eaecb748-3ba8-44a4-b3b1-7cd6ab7fd2c7",
   "metadata": {},
   "outputs": [
    {
     "name": "stdout",
     "output_type": "stream",
     "text": [
      "Accuracy: 0.738430583501006\n",
      "Precision: 0.7357695195161642\n"
     ]
    }
   ],
   "source": [
    "xgb.fit(X_train_tfidf, y_train_encoder)\n",
    "y_pred = xgb.predict(X_test_tfidf)\n",
    "\n",
    "acc = accuracy_score(y_test_encoder, y_pred)\n",
    "prec = precision_score(y_test_encoder, y_pred, average='weighted')\n",
    "\n",
    "print(f\"Accuracy: {acc}\")\n",
    "print(f\"Precision: {prec}\")"
   ]
  },
  {
   "cell_type": "code",
   "execution_count": 39,
   "id": "cef01441-747e-4698-a4de-483bd55bc4ed",
   "metadata": {},
   "outputs": [],
   "source": [
    "import pickle\n",
    "\n",
    "with open('model.pkl', 'wb') as file:\n",
    "    pickle.dump(xgb, file)\n",
    "\n",
    "with open('vectorizer.pkl', 'wb') as file:\n",
    "    pickle.dump(tfidf, file)\n",
    "\n",
    "with open('encoder.pkl', 'wb') as file:\n",
    "    pickle.dump(encoder, file)"
   ]
  },
  {
   "cell_type": "code",
   "execution_count": null,
   "id": "2f806511-1469-42de-bbce-7e690b2781e1",
   "metadata": {},
   "outputs": [],
   "source": []
  }
 ],
 "metadata": {
  "kernelspec": {
   "display_name": "Python 3 (ipykernel)",
   "language": "python",
   "name": "python3"
  },
  "language_info": {
   "codemirror_mode": {
    "name": "ipython",
    "version": 3
   },
   "file_extension": ".py",
   "mimetype": "text/x-python",
   "name": "python",
   "nbconvert_exporter": "python",
   "pygments_lexer": "ipython3",
   "version": "3.12.7"
  }
 },
 "nbformat": 4,
 "nbformat_minor": 5
}
